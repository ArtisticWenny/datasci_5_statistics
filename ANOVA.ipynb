{
  "nbformat": 4,
  "nbformat_minor": 0,
  "metadata": {
    "colab": {
      "provenance": [],
      "authorship_tag": "ABX9TyNxh+xzZQjUtLvJPEgRjgEW",
      "include_colab_link": true
    },
    "kernelspec": {
      "name": "python3",
      "display_name": "Python 3"
    },
    "language_info": {
      "name": "python"
    }
  },
  "cells": [
    {
      "cell_type": "markdown",
      "metadata": {
        "id": "view-in-github",
        "colab_type": "text"
      },
      "source": [
        "<a href=\"https://colab.research.google.com/github/ArtisticWenny/datasci_5_statistics/blob/main/ANOVA.ipynb\" target=\"_parent\"><img src=\"https://colab.research.google.com/assets/colab-badge.svg\" alt=\"Open In Colab\"/></a>"
      ]
    },
    {
      "cell_type": "code",
      "execution_count": 5,
      "metadata": {
        "id": "b8KNX6dgRd-K"
      },
      "outputs": [],
      "source": [
        "import numpy as np\n",
        "import pandas as pd\n",
        "from scipy.stats import f_oneway\n",
        "from scipy.stats import chi2_contingency, ttest_ind"
      ]
    },
    {
      "cell_type": "code",
      "source": [
        "from google.colab import drive\n",
        "\n",
        "drive.mount('/content/drive')"
      ],
      "metadata": {
        "colab": {
          "base_uri": "https://localhost:8080/"
        },
        "id": "68yop6KhSxj5",
        "outputId": "1dcd8ce7-0a9b-4387-ae00-9d8ad87bed3c"
      },
      "execution_count": 2,
      "outputs": [
        {
          "output_type": "stream",
          "name": "stdout",
          "text": [
            "Mounted at /content/drive\n"
          ]
        }
      ]
    },
    {
      "cell_type": "code",
      "source": [
        "csv_file_path = ['/content/drive/MyDrive/PLACES__Local_Data_for_Better_Health__County_Data_2023_release.csv']\n",
        "\n",
        "df = pd.read_csv('/content/drive/MyDrive/PLACES__Local_Data_for_Better_Health__County_Data_2023_release.csv')\n",
        "\n",
        "print(df.head)"
      ],
      "metadata": {
        "id": "Hv6Ik9-OSzmN"
      },
      "execution_count": null,
      "outputs": []
    },
    {
      "cell_type": "code",
      "source": [
        "df['TotalPopulation'].value_counts()\n",
        "df['Data_Value'].value_counts()"
      ],
      "metadata": {
        "id": "XDpokxbcU1GE"
      },
      "execution_count": null,
      "outputs": []
    },
    {
      "cell_type": "code",
      "source": [
        "total_population_counts = df['TotalPopulation'].value_counts()\n",
        "total_data_value = df['Data_Value'].value_counts()"
      ],
      "metadata": {
        "id": "4N056fanU-Oe"
      },
      "execution_count": 13,
      "outputs": []
    },
    {
      "cell_type": "code",
      "source": [
        "import numpy as np\n",
        "\n",
        "# Calculate mean\n",
        "total_data_value = df['Data_Value'].mean()\n",
        "\n",
        "# Calculate standard deviation\n",
        "data_value_std = df['Data_Value'].std()\n",
        "\n",
        "# Calculate mean\n",
        "totalPopulation_mean = df['TotalPopulation'].mean()\n",
        "\n",
        "# Calculate standard deviation\n",
        "totalPopulation_std = df['TotalPopulation'].std()\n",
        "\n",
        "print(total_data_value)\n",
        "print(data_value_std)\n",
        "print(totalPopulation_mean)\n",
        "print(totalPopulation_std)"
      ],
      "metadata": {
        "id": "vJ8pyIoaVA3Q"
      },
      "execution_count": null,
      "outputs": []
    },
    {
      "cell_type": "code",
      "source": [
        "totalPopulation = df.groupby('independent_variable')\n"
      ],
      "metadata": {
        "id": "qN6nvNLyTGng"
      },
      "execution_count": null,
      "outputs": []
    },
    {
      "cell_type": "code",
      "source": [
        "totalPopulation = totalPopulation.mean()\n",
        "totalPopulation_std = totalPopulation.std()"
      ],
      "metadata": {
        "id": "vEGplGMDTHSi"
      },
      "execution_count": null,
      "outputs": []
    },
    {
      "cell_type": "code",
      "source": [
        "f_statistic, p_value = f_oneway(*totalPopulation.values)\n"
      ],
      "metadata": {
        "id": "fWGjMZ_9TKRR"
      },
      "execution_count": null,
      "outputs": []
    }
  ]
}