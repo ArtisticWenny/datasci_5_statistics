{
  "nbformat": 4,
  "nbformat_minor": 0,
  "metadata": {
    "colab": {
      "provenance": [],
      "authorship_tag": "ABX9TyPiR+W1nam/hsG/WkO3sn0N",
      "include_colab_link": true
    },
    "kernelspec": {
      "name": "python3",
      "display_name": "Python 3"
    },
    "language_info": {
      "name": "python"
    }
  },
  "cells": [
    {
      "cell_type": "markdown",
      "metadata": {
        "id": "view-in-github",
        "colab_type": "text"
      },
      "source": [
        "<a href=\"https://colab.research.google.com/github/ArtisticWenny/datasci_5_statistics/blob/main/ANOVA.ipynb\" target=\"_parent\"><img src=\"https://colab.research.google.com/assets/colab-badge.svg\" alt=\"Open In Colab\"/></a>"
      ]
    },
    {
      "cell_type": "code",
      "execution_count": 1,
      "metadata": {
        "id": "b8KNX6dgRd-K"
      },
      "outputs": [],
      "source": [
        "import numpy as np\n",
        "import pandas as pd\n",
        "from scipy.stats import f_oneway"
      ]
    },
    {
      "cell_type": "code",
      "source": [
        "from google.colab import drive\n",
        "\n",
        "drive.mount('/content/drive')"
      ],
      "metadata": {
        "colab": {
          "base_uri": "https://localhost:8080/"
        },
        "id": "68yop6KhSxj5",
        "outputId": "1dcd8ce7-0a9b-4387-ae00-9d8ad87bed3c"
      },
      "execution_count": 2,
      "outputs": [
        {
          "output_type": "stream",
          "name": "stdout",
          "text": [
            "Mounted at /content/drive\n"
          ]
        }
      ]
    },
    {
      "cell_type": "code",
      "source": [
        "csv_file_path = ['/content/drive/MyDrive/PLACES__Local_Data_for_Better_Health__County_Data_2023_release.csv']\n",
        "\n",
        "df = pd.read_csv('/content/drive/MyDrive/PLACES__Local_Data_for_Better_Health__County_Data_2023_release.csv')\n",
        "\n",
        "print(df.head)"
      ],
      "metadata": {
        "colab": {
          "base_uri": "https://localhost:8080/"
        },
        "id": "Hv6Ik9-OSzmN",
        "outputId": "69bfcde8-1ee1-4747-d396-1fc68450b828"
      },
      "execution_count": 3,
      "outputs": [
        {
          "output_type": "stream",
          "name": "stdout",
          "text": [
            "<bound method NDFrame.head of       Year StateAbbr   StateDesc LocationName DataSource         Category  \\\n",
            "0     2021        CA  California    Calaveras      BRFSS  Health Outcomes   \n",
            "1     2021        CA  California      Alameda      BRFSS  Health Outcomes   \n",
            "2     2021        CA  California   San Benito      BRFSS  Health Outcomes   \n",
            "3     2020        CA  California   Sacramento      BRFSS       Prevention   \n",
            "4     2021        CA  California       Plumas      BRFSS  Health Outcomes   \n",
            "...    ...       ...         ...          ...        ...              ...   \n",
            "4287  2021        CA  California      Ventura      BRFSS  Health Outcomes   \n",
            "4288  2021        CA  California         Yolo      BRFSS  Health Outcomes   \n",
            "4289  2021        CA  California         Yuba      BRFSS       Prevention   \n",
            "4290  2021        CA  California         Yuba      BRFSS  Health Outcomes   \n",
            "4291  2021        CA  California      Ventura      BRFSS  Health Outcomes   \n",
            "\n",
            "                                                Measure Data_Value_Unit  \\\n",
            "0           Current asthma among adults aged >=18 years               %   \n",
            "1       Diagnosed diabetes among adults aged >=18 years               %   \n",
            "2       Diagnosed diabetes among adults aged >=18 years               %   \n",
            "3     Older adult men aged >=65 years who are up to ...               %   \n",
            "4     Cancer (excluding skin cancer) among adults ag...               %   \n",
            "...                                                 ...             ...   \n",
            "4287  Cancer (excluding skin cancer) among adults ag...               %   \n",
            "4288                Stroke among adults aged >=18 years               %   \n",
            "4289  Current lack of health insurance among adults ...               %   \n",
            "4290  Cancer (excluding skin cancer) among adults ag...               %   \n",
            "4291  Chronic obstructive pulmonary disease among ad...               %   \n",
            "\n",
            "              Data_Value_Type  Data_Value  ...  Low_Confidence_Limit  \\\n",
            "0     Age-adjusted prevalence        10.3  ...                   9.0   \n",
            "1            Crude prevalence        10.1  ...                   8.6   \n",
            "2            Crude prevalence        11.0  ...                   9.4   \n",
            "3     Age-adjusted prevalence        38.2  ...                  32.3   \n",
            "4            Crude prevalence         9.9  ...                   8.9   \n",
            "...                       ...         ...  ...                   ...   \n",
            "4287         Crude prevalence         6.6  ...                   6.0   \n",
            "4288         Crude prevalence         2.5  ...                   2.2   \n",
            "4289  Age-adjusted prevalence        11.7  ...                   9.4   \n",
            "4290  Age-adjusted prevalence         5.9  ...                   5.3   \n",
            "4291  Age-adjusted prevalence         4.8  ...                   4.0   \n",
            "\n",
            "      High_Confidence_Limit  TotalPopulation  LocationID  CategoryID  \\\n",
            "0                      11.7            46221        6009     HLTHOUT   \n",
            "1                      11.8          1648556        6001     HLTHOUT   \n",
            "2                      12.9            66677        6069     HLTHOUT   \n",
            "3                      44.2          1588921        6067     PREVENT   \n",
            "4                      11.0            19915        6063     HLTHOUT   \n",
            "...                     ...              ...         ...         ...   \n",
            "4287                    7.3           839784        6111     HLTHOUT   \n",
            "4288                    2.8           216986        6113     HLTHOUT   \n",
            "4289                   14.4            83421        6115     PREVENT   \n",
            "4290                    6.6            83421        6115     HLTHOUT   \n",
            "4291                    5.8           839784        6111     HLTHOUT   \n",
            "\n",
            "      MeasureId DataValueTypeID                     Short_Question_Text  \\\n",
            "0       CASTHMA       AgeAdjPrv                          Current Asthma   \n",
            "1      DIABETES          CrdPrv                                Diabetes   \n",
            "2      DIABETES          CrdPrv                                Diabetes   \n",
            "3         COREM       AgeAdjPrv  Core preventive services for older men   \n",
            "4        CANCER          CrdPrv                    Cancer (except skin)   \n",
            "...         ...             ...                                     ...   \n",
            "4287     CANCER          CrdPrv                    Cancer (except skin)   \n",
            "4288     STROKE          CrdPrv                                  Stroke   \n",
            "4289    ACCESS2       AgeAdjPrv                        Health Insurance   \n",
            "4290     CANCER       AgeAdjPrv                    Cancer (except skin)   \n",
            "4291       COPD       AgeAdjPrv                                    COPD   \n",
            "\n",
            "                          Geolocation Counties  \n",
            "0     POINT (-120.5541065 38.1910682)   1184.0  \n",
            "1      POINT (-121.912488 37.6471385)   1141.0  \n",
            "2     POINT (-121.0858108 36.6116507)   1178.0  \n",
            "3     POINT (-121.3443291 38.4501363)     77.0  \n",
            "4     POINT (-120.8243709 39.9922953)   1176.0  \n",
            "...                               ...      ...  \n",
            "4287  POINT (-119.1331453 34.3587477)   1392.0  \n",
            "4288    POINT (-121.90275 38.6796091)   1393.0  \n",
            "4289    POINT (-121.3442587 39.27013)   1394.0  \n",
            "4290    POINT (-121.3442587 39.27013)   1394.0  \n",
            "4291  POINT (-119.1331453 34.3587477)   1392.0  \n",
            "\n",
            "[4292 rows x 22 columns]>\n"
          ]
        }
      ]
    }
  ]
}