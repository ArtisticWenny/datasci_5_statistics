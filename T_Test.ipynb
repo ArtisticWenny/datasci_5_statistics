{
  "nbformat": 4,
  "nbformat_minor": 0,
  "metadata": {
    "colab": {
      "provenance": [],
      "authorship_tag": "ABX9TyP+xpcU8zVZb71BHZmTnT5y",
      "include_colab_link": true
    },
    "kernelspec": {
      "name": "python3",
      "display_name": "Python 3"
    },
    "language_info": {
      "name": "python"
    }
  },
  "cells": [
    {
      "cell_type": "markdown",
      "metadata": {
        "id": "view-in-github",
        "colab_type": "text"
      },
      "source": [
        "<a href=\"https://colab.research.google.com/github/ArtisticWenny/datasci_5_statistics/blob/main/T_Test.ipynb\" target=\"_parent\"><img src=\"https://colab.research.google.com/assets/colab-badge.svg\" alt=\"Open In Colab\"/></a>"
      ]
    },
    {
      "cell_type": "code",
      "execution_count": 11,
      "metadata": {
        "id": "2B3vItM_-F2i"
      },
      "outputs": [],
      "source": [
        "import pandas as pd\n",
        "import scipy\n",
        "from scipy.stats import chi2_contingency, ttest_ind"
      ]
    },
    {
      "cell_type": "code",
      "source": [
        "from google.colab import drive\n",
        "\n",
        "drive.mount('/content/drive')"
      ],
      "metadata": {
        "colab": {
          "base_uri": "https://localhost:8080/"
        },
        "id": "iVYynsuk-L3S",
        "outputId": "890fd2e2-e239-4bfe-c10b-43d629c26558"
      },
      "execution_count": 12,
      "outputs": [
        {
          "output_type": "stream",
          "name": "stdout",
          "text": [
            "Drive already mounted at /content/drive; to attempt to forcibly remount, call drive.mount(\"/content/drive\", force_remount=True).\n"
          ]
        }
      ]
    },
    {
      "cell_type": "code",
      "source": [
        "csv_file_path = ['/content/drive/MyDrive/PLACES__Local_Data_for_Better_Health__County_Data_2023_release.csv']\n",
        "\n",
        "df = pd.read_csv('/content/drive/MyDrive/PLACES__Local_Data_for_Better_Health__County_Data_2023_release.csv')\n",
        "\n",
        "print(df.head)"
      ],
      "metadata": {
        "id": "12wwnZpe-QRA"
      },
      "execution_count": null,
      "outputs": []
    },
    {
      "cell_type": "code",
      "source": [
        "df['TotalPopulation'].value_counts()\n",
        "df['Data_Value'].value_counts()\n",
        "\n"
      ],
      "metadata": {
        "colab": {
          "base_uri": "https://localhost:8080/"
        },
        "id": "vlUDVTksC0Ma",
        "outputId": "3eb0ed15-0e19-492f-e314-f8264b7cf8c9"
      },
      "execution_count": 26,
      "outputs": [
        {
          "output_type": "execute_result",
          "data": {
            "text/plain": [
              "3.1     37\n",
              "3.2     30\n",
              "5.8     29\n",
              "6.2     28\n",
              "6.3     27\n",
              "        ..\n",
              "86.1     1\n",
              "26.1     1\n",
              "75.2     1\n",
              "28.3     1\n",
              "37.1     1\n",
              "Name: Data_Value, Length: 702, dtype: int64"
            ]
          },
          "metadata": {},
          "execution_count": 26
        }
      ]
    },
    {
      "cell_type": "code",
      "source": [
        "total_population_counts = df['TotalPopulation'].value_counts()\n",
        "total_data_value = df['Data_Value'].value_counts()"
      ],
      "metadata": {
        "id": "AwLeT9yJVt0I"
      },
      "execution_count": 25,
      "outputs": []
    },
    {
      "cell_type": "code",
      "source": [
        "import numpy as np\n",
        "\n",
        "# Calculate the mean\n",
        "total_data_value = df['Data_Value'].mean()\n",
        "\n",
        "# Calculate the standard deviation\n",
        "data_value_std = df['Data_Value'].std()\n",
        "\n",
        "# Calculate the mean\n",
        "totalPopulation_mean = df['TotalPopulation'].mean()\n",
        "\n",
        "# Calculate the standard deviation\n",
        "totalPopulation_std = df['TotalPopulation'].std()\n",
        "\n",
        "print(total_data_value)\n",
        "print(data_value_std)\n",
        "print(totalPopulation_mean)\n",
        "print(totalPopulation_std)"
      ],
      "metadata": {
        "colab": {
          "base_uri": "https://localhost:8080/"
        },
        "id": "1Wza1DMACsNt",
        "outputId": "6a698182-94d3-4c32-e22f-ebb0fbc3cd61"
      },
      "execution_count": 33,
      "outputs": [
        {
          "output_type": "stream",
          "name": "stdout",
          "text": [
            "25.90792171481827\n",
            "23.309668202456717\n",
            "676514.4137931034\n",
            "1429539.2532181665\n"
          ]
        }
      ]
    },
    {
      "cell_type": "code",
      "source": [
        "t_statistic = (total_data_value - totalPopulation_mean) / np.sqrt(data_value_std**2 / len('Data_Value') + totalPopulation_std**2 / len('TotalPopulation'))\n",
        "\n",
        "print(t_statistic)\n"
      ],
      "metadata": {
        "colab": {
          "base_uri": "https://localhost:8080/"
        },
        "id": "IejFoIIhXuKg",
        "outputId": "339edb53-1816-4aff-92f6-46b681613cae"
      },
      "execution_count": 36,
      "outputs": [
        {
          "output_type": "stream",
          "name": "stdout",
          "text": [
            "-1.8327784359331074\n"
          ]
        }
      ]
    },
    {
      "cell_type": "code",
      "source": [
        "# Calculate the p-value\n",
        "p_value = ttest_ind(total_data_value, total_population_counts)[1]\n",
        "print(p_value)"
      ],
      "metadata": {
        "colab": {
          "base_uri": "https://localhost:8080/"
        },
        "id": "R36mr3tCYGqL",
        "outputId": "2c586275-b00e-4b7c-858d-38f774f0faaa"
      },
      "execution_count": 42,
      "outputs": [
        {
          "output_type": "stream",
          "name": "stdout",
          "text": [
            "0.0\n"
          ]
        }
      ]
    }
  ]
}