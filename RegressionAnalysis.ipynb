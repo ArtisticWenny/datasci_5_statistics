{
  "nbformat": 4,
  "nbformat_minor": 0,
  "metadata": {
    "colab": {
      "provenance": [],
      "authorship_tag": "ABX9TyOBtBM/UA0JI7oiragJgcwD",
      "include_colab_link": true
    },
    "kernelspec": {
      "name": "python3",
      "display_name": "Python 3"
    },
    "language_info": {
      "name": "python"
    }
  },
  "cells": [
    {
      "cell_type": "markdown",
      "metadata": {
        "id": "view-in-github",
        "colab_type": "text"
      },
      "source": [
        "<a href=\"https://colab.research.google.com/github/ArtisticWenny/datasci_5_statistics/blob/main/RegressionAnalysis.ipynb\" target=\"_parent\"><img src=\"https://colab.research.google.com/assets/colab-badge.svg\" alt=\"Open In Colab\"/></a>"
      ]
    },
    {
      "cell_type": "markdown",
      "source": [
        "**Null hypothesis:** There is no difference in the occurance of \"current asthma\" and \"diagnosed diabetes\" in the counties of California.\n",
        "\n",
        "**Alternative hypothesis:** There is a difference in the occurance of \"current asthma\" and \"diagnosed diabetes\" in the counties in California.\n",
        "\n",
        "**Regression analysis:**"
      ],
      "metadata": {
        "id": "SqA2qEsdRqmN"
      }
    },
    {
      "cell_type": "markdown",
      "source": [
        "Load in scripts"
      ],
      "metadata": {
        "id": "VxUUl2byR7Hw"
      }
    },
    {
      "cell_type": "code",
      "source": [
        "import numpy as np\n",
        "import pandas as pd\n",
        "from scipy.stats import f_oneway\n",
        "from scipy.stats import chi2_contingency, ttest_ind\n",
        "import pandas as pd\n",
        "from scipy.stats import chi2_contingency, ttest_ind\n",
        "import statsmodels.api as sm\n",
        "from statsmodels.formula.api import ols\n",
        "import numpy as np\n",
        "import matplotlib.pyplot as plt\n",
        "import plotly.express as px\n",
        "import statsmodels.api as sm\n",
        "import scipy.stats as stats\n",
        ""
      ],
      "metadata": {
        "id": "-TnfWWSkOpoT"
      },
      "execution_count": 1,
      "outputs": []
    },
    {
      "cell_type": "markdown",
      "source": [
        "Load in drive"
      ],
      "metadata": {
        "id": "JJS5QcLeR_gW"
      }
    },
    {
      "cell_type": "code",
      "source": [
        "from google.colab import drive\n",
        "\n",
        "drive.mount('/content/drive')"
      ],
      "metadata": {
        "colab": {
          "base_uri": "https://localhost:8080/"
        },
        "id": "aDBKxMumOshA",
        "outputId": "e682f539-63ce-4dc8-a4dc-405d7320e6bf"
      },
      "execution_count": 2,
      "outputs": [
        {
          "output_type": "stream",
          "name": "stdout",
          "text": [
            "Mounted at /content/drive\n"
          ]
        }
      ]
    },
    {
      "cell_type": "markdown",
      "source": [
        "Load in file"
      ],
      "metadata": {
        "id": "NwQisz1bSA8d"
      }
    },
    {
      "cell_type": "code",
      "source": [
        "csv_file_path = ['/content/drive/MyDrive/PLACES__Local_Data_for_Better_Health__County_Data_2023_release.csv']\n",
        "\n",
        "df = pd.read_csv('/content/drive/MyDrive/PLACES__Local_Data_for_Better_Health__County_Data_2023_release.csv')\n",
        "\n",
        "print(df.head)"
      ],
      "metadata": {
        "id": "Fy19Mce8Owve"
      },
      "execution_count": null,
      "outputs": []
    },
    {
      "cell_type": "markdown",
      "source": [
        "Analysis"
      ],
      "metadata": {
        "id": "_Cz0rNKwSFZT"
      }
    },
    {
      "cell_type": "code",
      "execution_count": 20,
      "metadata": {
        "colab": {
          "base_uri": "https://localhost:8080/"
        },
        "id": "oLgzzleHNYfk",
        "outputId": "59c31427-70eb-49a5-f5fd-cc7e770adfd0"
      },
      "outputs": [
        {
          "output_type": "execute_result",
          "data": {
            "text/plain": [
              "Index(['Year', 'StateAbbr', 'StateDesc', 'LocationName', 'DataSource',\n",
              "       'Category', 'Measure', 'Data_Value_Unit', 'Data_Value_Type',\n",
              "       'Data_Value', 'Data_Value_Footnote_Symbol', 'Data_Value_Footnote',\n",
              "       'Low_Confidence_Limit', 'High_Confidence_Limit', 'TotalPopulation',\n",
              "       'LocationID', 'CategoryID', 'MeasureId', 'DataValueTypeID',\n",
              "       'Short_Question_Text', 'Geolocation', 'Counties'],\n",
              "      dtype='object')"
            ]
          },
          "metadata": {},
          "execution_count": 20
        }
      ],
      "source": [
        "df.columns"
      ]
    },
    {
      "cell_type": "code",
      "source": [
        "df.dtypes"
      ],
      "metadata": {
        "colab": {
          "base_uri": "https://localhost:8080/"
        },
        "id": "z1WOYbdsTNhH",
        "outputId": "20f07fe3-1ce8-495e-be50-c56af96f1155"
      },
      "execution_count": 18,
      "outputs": [
        {
          "output_type": "execute_result",
          "data": {
            "text/plain": [
              "Year                            int64\n",
              "StateAbbr                      object\n",
              "StateDesc                      object\n",
              "LocationName                   object\n",
              "DataSource                     object\n",
              "Category                       object\n",
              "Measure                        object\n",
              "Data_Value_Unit                object\n",
              "Data_Value_Type                object\n",
              "Data_Value                    float64\n",
              "Data_Value_Footnote_Symbol    float64\n",
              "Data_Value_Footnote           float64\n",
              "Low_Confidence_Limit          float64\n",
              "High_Confidence_Limit         float64\n",
              "TotalPopulation                 int64\n",
              "LocationID                      int64\n",
              "CategoryID                     object\n",
              "MeasureId                      object\n",
              "DataValueTypeID                object\n",
              "Short_Question_Text            object\n",
              "Geolocation                    object\n",
              "Counties                      float64\n",
              "dtype: object"
            ]
          },
          "metadata": {},
          "execution_count": 18
        }
      ]
    },
    {
      "cell_type": "code",
      "source": [
        "print(df.MeasureId)\n",
        "\n"
      ],
      "metadata": {
        "colab": {
          "base_uri": "https://localhost:8080/"
        },
        "id": "yQH_GfhaUneO",
        "outputId": "9d689b47-762f-427d-c2b2-d6acb22e6e09"
      },
      "execution_count": 36,
      "outputs": [
        {
          "output_type": "stream",
          "name": "stdout",
          "text": [
            "0        CASTHMA\n",
            "1       DIABETES\n",
            "2       DIABETES\n",
            "3          COREM\n",
            "4         CANCER\n",
            "          ...   \n",
            "4287      CANCER\n",
            "4288      STROKE\n",
            "4289     ACCESS2\n",
            "4290      CANCER\n",
            "4291        COPD\n",
            "Name: MeasureId, Length: 4292, dtype: object\n"
          ]
        }
      ]
    },
    {
      "cell_type": "code",
      "source": [
        "print(df.Counties)"
      ],
      "metadata": {
        "colab": {
          "base_uri": "https://localhost:8080/"
        },
        "id": "utfR_hFEWDz_",
        "outputId": "f5555911-a390-4438-809e-e7241f3882dd"
      },
      "execution_count": 39,
      "outputs": [
        {
          "output_type": "stream",
          "name": "stdout",
          "text": [
            "0       1184.0\n",
            "1       1141.0\n",
            "2       1178.0\n",
            "3         77.0\n",
            "4       1176.0\n",
            "         ...  \n",
            "4287    1392.0\n",
            "4288    1393.0\n",
            "4289    1394.0\n",
            "4290    1394.0\n",
            "4291    1392.0\n",
            "Name: Counties, Length: 4292, dtype: float64\n"
          ]
        }
      ]
    },
    {
      "cell_type": "code",
      "source": [
        "slope, intercept, r_value, p_value, std_err = stats.linregress(df.MeasureId, df.Counties)\n"
      ],
      "metadata": {
        "id": "B0p2Vuv0WTEd"
      },
      "execution_count": null,
      "outputs": []
    }
  ]
}