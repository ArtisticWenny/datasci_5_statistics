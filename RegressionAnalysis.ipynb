{
  "nbformat": 4,
  "nbformat_minor": 0,
  "metadata": {
    "colab": {
      "provenance": [],
      "authorship_tag": "ABX9TyNoNm4ypO09A+nkpfktQcqk",
      "include_colab_link": true
    },
    "kernelspec": {
      "name": "python3",
      "display_name": "Python 3"
    },
    "language_info": {
      "name": "python"
    }
  },
  "cells": [
    {
      "cell_type": "markdown",
      "metadata": {
        "id": "view-in-github",
        "colab_type": "text"
      },
      "source": [
        "<a href=\"https://colab.research.google.com/github/ArtisticWenny/datasci_5_statistics/blob/main/RegressionAnalysis.ipynb\" target=\"_parent\"><img src=\"https://colab.research.google.com/assets/colab-badge.svg\" alt=\"Open In Colab\"/></a>"
      ]
    },
    {
      "cell_type": "markdown",
      "source": [
        "**Null hypothesis:** There is no difference in the percentage (data_Value) in the occurance of the diagnoses and the (totalPopulation) in California.\n",
        "\n",
        "**Alternative hypothesis:** There is a difference in the percentage (data_Value) in the occurance of the diagnoses and the (totalPopulation) in California.\n",
        "\n",
        "**Regression analysis:**"
      ],
      "metadata": {
        "id": "SqA2qEsdRqmN"
      }
    },
    {
      "cell_type": "markdown",
      "source": [
        "Load in scripts"
      ],
      "metadata": {
        "id": "VxUUl2byR7Hw"
      }
    },
    {
      "cell_type": "code",
      "source": [
        "import numpy as np\n",
        "import pandas as pd\n",
        "from scipy.stats import f_oneway\n",
        "from scipy.stats import chi2_contingency, ttest_ind\n",
        "import pandas as pd\n",
        "from scipy.stats import chi2_contingency, ttest_ind\n",
        "import statsmodels.api as sm\n",
        "from statsmodels.formula.api import ols\n",
        "import numpy as np\n",
        "import matplotlib.pyplot as plt\n",
        "import plotly.express as px\n",
        "import statsmodels.api as sm\n",
        "import scipy.stats as stats\n",
        ""
      ],
      "metadata": {
        "id": "-TnfWWSkOpoT"
      },
      "execution_count": 1,
      "outputs": []
    },
    {
      "cell_type": "markdown",
      "source": [
        "Load in drive"
      ],
      "metadata": {
        "id": "JJS5QcLeR_gW"
      }
    },
    {
      "cell_type": "code",
      "source": [
        "from google.colab import drive\n",
        "\n",
        "drive.mount('/content/drive')"
      ],
      "metadata": {
        "colab": {
          "base_uri": "https://localhost:8080/"
        },
        "id": "aDBKxMumOshA",
        "outputId": "571b6bd3-0652-4f52-dee2-fb43dc747fc3"
      },
      "execution_count": 2,
      "outputs": [
        {
          "output_type": "stream",
          "name": "stdout",
          "text": [
            "Mounted at /content/drive\n"
          ]
        }
      ]
    },
    {
      "cell_type": "markdown",
      "source": [
        "Load in file"
      ],
      "metadata": {
        "id": "NwQisz1bSA8d"
      }
    },
    {
      "cell_type": "code",
      "source": [
        "csv_file_path = ['/content/drive/MyDrive/PLACES__Local_Data_for_Better_Health__County_Data_2023_release.csv']\n",
        "\n",
        "df = pd.read_csv('/content/drive/MyDrive/PLACES__Local_Data_for_Better_Health__County_Data_2023_release.csv')\n",
        "\n",
        "print(df.head)"
      ],
      "metadata": {
        "colab": {
          "base_uri": "https://localhost:8080/"
        },
        "id": "Fy19Mce8Owve",
        "outputId": "d86aae69-cf14-4bb0-f9ee-c832a6d5521f"
      },
      "execution_count": 3,
      "outputs": [
        {
          "output_type": "stream",
          "name": "stdout",
          "text": [
            "<bound method NDFrame.head of       Year StateAbbr   StateDesc LocationName DataSource         Category  \\\n",
            "0     2021        CA  California    Calaveras      BRFSS  Health Outcomes   \n",
            "1     2021        CA  California      Alameda      BRFSS  Health Outcomes   \n",
            "2     2021        CA  California   San Benito      BRFSS  Health Outcomes   \n",
            "3     2020        CA  California   Sacramento      BRFSS       Prevention   \n",
            "4     2021        CA  California       Plumas      BRFSS  Health Outcomes   \n",
            "...    ...       ...         ...          ...        ...              ...   \n",
            "4287  2021        CA  California      Ventura      BRFSS  Health Outcomes   \n",
            "4288  2021        CA  California         Yolo      BRFSS  Health Outcomes   \n",
            "4289  2021        CA  California         Yuba      BRFSS       Prevention   \n",
            "4290  2021        CA  California         Yuba      BRFSS  Health Outcomes   \n",
            "4291  2021        CA  California      Ventura      BRFSS  Health Outcomes   \n",
            "\n",
            "                                                Measure Data_Value_Unit  \\\n",
            "0           Current asthma among adults aged >=18 years               %   \n",
            "1       Diagnosed diabetes among adults aged >=18 years               %   \n",
            "2       Diagnosed diabetes among adults aged >=18 years               %   \n",
            "3     Older adult men aged >=65 years who are up to ...               %   \n",
            "4     Cancer (excluding skin cancer) among adults ag...               %   \n",
            "...                                                 ...             ...   \n",
            "4287  Cancer (excluding skin cancer) among adults ag...               %   \n",
            "4288                Stroke among adults aged >=18 years               %   \n",
            "4289  Current lack of health insurance among adults ...               %   \n",
            "4290  Cancer (excluding skin cancer) among adults ag...               %   \n",
            "4291  Chronic obstructive pulmonary disease among ad...               %   \n",
            "\n",
            "              Data_Value_Type  Data_Value  ...  Low_Confidence_Limit  \\\n",
            "0     Age-adjusted prevalence        10.3  ...                   9.0   \n",
            "1            Crude prevalence        10.1  ...                   8.6   \n",
            "2            Crude prevalence        11.0  ...                   9.4   \n",
            "3     Age-adjusted prevalence        38.2  ...                  32.3   \n",
            "4            Crude prevalence         9.9  ...                   8.9   \n",
            "...                       ...         ...  ...                   ...   \n",
            "4287         Crude prevalence         6.6  ...                   6.0   \n",
            "4288         Crude prevalence         2.5  ...                   2.2   \n",
            "4289  Age-adjusted prevalence        11.7  ...                   9.4   \n",
            "4290  Age-adjusted prevalence         5.9  ...                   5.3   \n",
            "4291  Age-adjusted prevalence         4.8  ...                   4.0   \n",
            "\n",
            "      High_Confidence_Limit  TotalPopulation  LocationID  CategoryID  \\\n",
            "0                      11.7            46221        6009     HLTHOUT   \n",
            "1                      11.8          1648556        6001     HLTHOUT   \n",
            "2                      12.9            66677        6069     HLTHOUT   \n",
            "3                      44.2          1588921        6067     PREVENT   \n",
            "4                      11.0            19915        6063     HLTHOUT   \n",
            "...                     ...              ...         ...         ...   \n",
            "4287                    7.3           839784        6111     HLTHOUT   \n",
            "4288                    2.8           216986        6113     HLTHOUT   \n",
            "4289                   14.4            83421        6115     PREVENT   \n",
            "4290                    6.6            83421        6115     HLTHOUT   \n",
            "4291                    5.8           839784        6111     HLTHOUT   \n",
            "\n",
            "      MeasureId DataValueTypeID                     Short_Question_Text  \\\n",
            "0       CASTHMA       AgeAdjPrv                          Current Asthma   \n",
            "1      DIABETES          CrdPrv                                Diabetes   \n",
            "2      DIABETES          CrdPrv                                Diabetes   \n",
            "3         COREM       AgeAdjPrv  Core preventive services for older men   \n",
            "4        CANCER          CrdPrv                    Cancer (except skin)   \n",
            "...         ...             ...                                     ...   \n",
            "4287     CANCER          CrdPrv                    Cancer (except skin)   \n",
            "4288     STROKE          CrdPrv                                  Stroke   \n",
            "4289    ACCESS2       AgeAdjPrv                        Health Insurance   \n",
            "4290     CANCER       AgeAdjPrv                    Cancer (except skin)   \n",
            "4291       COPD       AgeAdjPrv                                    COPD   \n",
            "\n",
            "                          Geolocation Counties  \n",
            "0     POINT (-120.5541065 38.1910682)   1184.0  \n",
            "1      POINT (-121.912488 37.6471385)   1141.0  \n",
            "2     POINT (-121.0858108 36.6116507)   1178.0  \n",
            "3     POINT (-121.3443291 38.4501363)     77.0  \n",
            "4     POINT (-120.8243709 39.9922953)   1176.0  \n",
            "...                               ...      ...  \n",
            "4287  POINT (-119.1331453 34.3587477)   1392.0  \n",
            "4288    POINT (-121.90275 38.6796091)   1393.0  \n",
            "4289    POINT (-121.3442587 39.27013)   1394.0  \n",
            "4290    POINT (-121.3442587 39.27013)   1394.0  \n",
            "4291  POINT (-119.1331453 34.3587477)   1392.0  \n",
            "\n",
            "[4292 rows x 22 columns]>\n"
          ]
        }
      ]
    },
    {
      "cell_type": "markdown",
      "source": [
        "Analysis"
      ],
      "metadata": {
        "id": "_Cz0rNKwSFZT"
      }
    },
    {
      "cell_type": "code",
      "execution_count": 4,
      "metadata": {
        "colab": {
          "base_uri": "https://localhost:8080/"
        },
        "id": "oLgzzleHNYfk",
        "outputId": "f7b64f91-e0e6-43ac-9695-fc59b3068bc0"
      },
      "outputs": [
        {
          "output_type": "execute_result",
          "data": {
            "text/plain": [
              "Index(['Year', 'StateAbbr', 'StateDesc', 'LocationName', 'DataSource',\n",
              "       'Category', 'Measure', 'Data_Value_Unit', 'Data_Value_Type',\n",
              "       'Data_Value', 'Data_Value_Footnote_Symbol', 'Data_Value_Footnote',\n",
              "       'Low_Confidence_Limit', 'High_Confidence_Limit', 'TotalPopulation',\n",
              "       'LocationID', 'CategoryID', 'MeasureId', 'DataValueTypeID',\n",
              "       'Short_Question_Text', 'Geolocation', 'Counties'],\n",
              "      dtype='object')"
            ]
          },
          "metadata": {},
          "execution_count": 4
        }
      ],
      "source": [
        "df.columns"
      ]
    },
    {
      "cell_type": "code",
      "source": [
        "df.dtypes"
      ],
      "metadata": {
        "colab": {
          "base_uri": "https://localhost:8080/"
        },
        "id": "z1WOYbdsTNhH",
        "outputId": "f827caff-bf42-49d4-cdd5-0ca2c222d700"
      },
      "execution_count": 13,
      "outputs": [
        {
          "output_type": "execute_result",
          "data": {
            "text/plain": [
              "Year                            int64\n",
              "StateAbbr                      object\n",
              "StateDesc                      object\n",
              "LocationName                   object\n",
              "DataSource                     object\n",
              "Category                       object\n",
              "Measure                        object\n",
              "Data_Value_Unit                object\n",
              "Data_Value_Type                object\n",
              "Data_Value                    float64\n",
              "Data_Value_Footnote_Symbol    float64\n",
              "Data_Value_Footnote           float64\n",
              "Low_Confidence_Limit          float64\n",
              "High_Confidence_Limit         float64\n",
              "TotalPopulation                 int64\n",
              "LocationID                      int64\n",
              "CategoryID                     object\n",
              "MeasureId                      object\n",
              "DataValueTypeID                object\n",
              "Short_Question_Text            object\n",
              "Geolocation                    object\n",
              "Counties                      float64\n",
              "dtype: object"
            ]
          },
          "metadata": {},
          "execution_count": 13
        }
      ]
    },
    {
      "cell_type": "code",
      "source": [
        "slope, intercept, r_value, p_value, std_err = stats.linregress(df['TotalPopulation'], df['Data_Value'])\n",
        "\n",
        "print(f\"Slope (Coefficient for BMI): {slope:.2f}\")\n",
        "print(f\"Intercept: {intercept:.2f}\")\n",
        "print(f\"R-squared value: {r_value**2:.2f}\")\n",
        "print(f\"P-value: {p_value:.5f}\")\n",
        "print(f\"Standard Error: {std_err:.5f}\")\n"
      ],
      "metadata": {
        "colab": {
          "base_uri": "https://localhost:8080/"
        },
        "id": "B0p2Vuv0WTEd",
        "outputId": "e6ca2590-71f5-41a1-b72c-868fc9481fe8"
      },
      "execution_count": 10,
      "outputs": [
        {
          "output_type": "stream",
          "name": "stdout",
          "text": [
            "Slope (Coefficient for BMI): -0.00\n",
            "Intercept: 26.06\n",
            "R-squared value: 0.00\n",
            "P-value: 0.37507\n",
            "Standard Error: 0.00000\n"
          ]
        }
      ]
    },
    {
      "cell_type": "code",
      "source": [
        "plt.scatter(df['TotalPopulation'], df['Data_Value'], color='green', label='Data points')\n",
        "plt.plot(df['TotalPopulation'], intercept + slope * df['TotalPopulation'], color='blue', label='Regression line')\n",
        "plt.title('TotalPopulation vs Data_Value')\n",
        "plt.xlabel('TotalPopulation')\n",
        "plt.ylabel('Data_Value')\n",
        "plt.legend()\n",
        "plt.show()"
      ],
      "metadata": {
        "colab": {
          "base_uri": "https://localhost:8080/",
          "height": 472
        },
        "id": "MY9EfzsfzuHV",
        "outputId": "68c3c4b0-98af-4f06-9a48-b6caedeb53aa"
      },
      "execution_count": 9,
      "outputs": [
        {
          "output_type": "display_data",
          "data": {
            "text/plain": [
              "<Figure size 640x480 with 1 Axes>"
            ],
            "image/png": "[encoded data removed]"
          },
          "metadata": {}
        }
      ]
    },
    {
      "cell_type": "markdown",
      "source": [
        "Analysis: There is no difference"
      ],
      "metadata": {
        "id": "JdWRZuIz00Sd"
      }
    }
  ]
}