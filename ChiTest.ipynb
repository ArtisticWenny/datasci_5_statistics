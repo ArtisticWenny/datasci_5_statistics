{
  "cells": [
    {
      "cell_type": "markdown",
      "metadata": {
        "id": "view-in-github",
        "colab_type": "text"
      },
      "source": [
        "<a href=\"https://colab.research.google.com/github/ArtisticWenny/datasci_5_statistics/blob/main/ChiTest.ipynb\" target=\"_parent\"><img src=\"https://colab.research.google.com/assets/colab-badge.svg\" alt=\"Open In Colab\"/></a>"
      ]
    },
    {
      "cell_type": "markdown",
      "source": [
        "Import Libraries"
      ],
      "metadata": {
        "id": "hW2GQ1Fm6eRP"
      }
    },
    {
      "cell_type": "code",
      "execution_count": 2,
      "metadata": {
        "id": "V1w33HZE6NNb"
      },
      "outputs": [],
      "source": [
        "import pandas as pd\n",
        "import scipy\n",
        "from scipy.stats import chi2_contingency, ttest_ind"
      ]
    },
    {
      "cell_type": "markdown",
      "source": [
        "Import Google Drive"
      ],
      "metadata": {
        "id": "Gwws5JDd8ZJJ"
      }
    },
    {
      "cell_type": "code",
      "execution_count": 3,
      "metadata": {
        "colab": {
          "base_uri": "https://localhost:8080/"
        },
        "id": "bQHtfSG76X9Z",
        "outputId": "cde66d9c-d66a-446b-c13e-c2cc987e2928"
      },
      "outputs": [
        {
          "output_type": "stream",
          "name": "stdout",
          "text": [
            "Mounted at /content/drive\n"
          ]
        }
      ],
      "source": [
        "from google.colab import drive\n",
        "\n",
        "drive.mount('/content/drive')"
      ]
    },
    {
      "cell_type": "markdown",
      "source": [
        "Import CSV File"
      ],
      "metadata": {
        "id": "8jh9Yru58cAM"
      }
    },
    {
      "cell_type": "code",
      "execution_count": null,
      "metadata": {
        "id": "xGHJfTDg6d8F"
      },
      "outputs": [],
      "source": [
        "csv_file_path = ['/content/drive/MyDrive/PLACES__Local_Data_for_Better_Health__County_Data_2023_release.csv']\n",
        "\n",
        "df = pd.read_csv('/content/drive/MyDrive/PLACES__Local_Data_for_Better_Health__County_Data_2023_release.csv')\n",
        "\n",
        "print(df.head)"
      ]
    },
    {
      "cell_type": "markdown",
      "source": [
        "Load in 2 Variables"
      ],
      "metadata": {
        "id": "jbEVymjQ8gIO"
      }
    },
    {
      "cell_type": "code",
      "execution_count": 8,
      "metadata": {
        "colab": {
          "base_uri": "https://localhost:8080/"
        },
        "id": "8i0DBA178yaD",
        "outputId": "5b66615d-9e01-43d6-b0f4-b43885afb7c1"
      },
      "outputs": [
        {
          "output_type": "execute_result",
          "data": {
            "text/plain": [
              "3.1     37\n",
              "3.2     30\n",
              "5.8     29\n",
              "6.2     28\n",
              "6.3     27\n",
              "        ..\n",
              "86.1     1\n",
              "26.1     1\n",
              "75.2     1\n",
              "28.3     1\n",
              "37.1     1\n",
              "Name: Data_Value, Length: 702, dtype: int64"
            ]
          },
          "metadata": {},
          "execution_count": 8
        }
      ],
      "source": [
        "df['TotalPopulation'].value_counts()\n",
        "df['Data_Value'].value_counts()"
      ]
    },
    {
      "cell_type": "markdown",
      "source": [
        "Produce Contingency Table"
      ],
      "metadata": {
        "id": "6Fl_ectI8jGq"
      }
    },
    {
      "cell_type": "code",
      "execution_count": null,
      "metadata": {
        "id": "Wbsne7aA9QEY"
      },
      "outputs": [],
      "source": [
        "contingency_table = pd.crosstab(df['TotalPopulation'], df['Data_Value'])\n",
        "print(contingency_table)"
      ]
    },
    {
      "cell_type": "markdown",
      "source": [
        "Print value"
      ],
      "metadata": {
        "id": "VpxGdD1I8xmc"
      }
    },
    {
      "cell_type": "code",
      "execution_count": 18,
      "metadata": {
        "colab": {
          "base_uri": "https://localhost:8080/"
        },
        "id": "gqEAno4l9bJX",
        "outputId": "ab00fc58-0b66-43d5-c5e4-044ef09b4f4d"
      },
      "outputs": [
        {
          "output_type": "stream",
          "name": "stdout",
          "text": [
            "Chi2 value: 40886.95027721844\n",
            "P-value: 0.0005438268467067169\n"
          ]
        }
      ],
      "source": [
        "chi2, p, _, _ = scipy.stats.chi2_contingency(contingency_table)\n",
        "print(f\"Chi2 value: {chi2}\")\n",
        "print(f\"P-value: {p}\")\n"
      ]
    },
    {
      "cell_type": "code",
      "source": [
        "chi2_statistic, p_value, dof, expected_table = chi2_contingency(contingency_table)\n"
      ],
      "metadata": {
        "id": "fUryeTxH6WpB"
      },
      "execution_count": 22,
      "outputs": []
    },
    {
      "cell_type": "code",
      "execution_count": 20,
      "metadata": {
        "id": "HT3WaXLG_VEc"
      },
      "outputs": [],
      "source": [
        "output1, output2, output3, output4 = scipy.stats.chi2_contingency(contingency_table)"
      ]
    },
    {
      "cell_type": "code",
      "source": [
        "print(\"Chi-square statistic:\", chi2_statistic)\n",
        "print(\"P-value:\", p_value)\n",
        "print(\"Degrees of freedom:\", dof)\n",
        "print(\"Expected table:\", expected_table)"
      ],
      "metadata": {
        "colab": {
          "base_uri": "https://localhost:8080/"
        },
        "id": "ktk8E2Wh6P4P",
        "outputId": "85550dfb-f673-44ab-a21d-47de8c886086"
      },
      "execution_count": 23,
      "outputs": [
        {
          "output_type": "stream",
          "name": "stdout",
          "text": [
            "Chi-square statistic: 40886.95027721844\n",
            "P-value: 0.0005438268467067169\n",
            "Degrees of freedom: 39957\n",
            "Expected table: [[0.05172414 0.03448276 0.0862069  ... 0.01724138 0.01724138 0.01724138]\n",
            " [0.05172414 0.03448276 0.0862069  ... 0.01724138 0.01724138 0.01724138]\n",
            " [0.05172414 0.03448276 0.0862069  ... 0.01724138 0.01724138 0.01724138]\n",
            " ...\n",
            " [0.05172414 0.03448276 0.0862069  ... 0.01724138 0.01724138 0.01724138]\n",
            " [0.05172414 0.03448276 0.0862069  ... 0.01724138 0.01724138 0.01724138]\n",
            " [0.05172414 0.03448276 0.0862069  ... 0.01724138 0.01724138 0.01724138]]\n"
          ]
        }
      ]
    },
    {
      "cell_type": "markdown",
      "source": [
        "There is a significant association between the data_value and totalPopulation."
      ],
      "metadata": {
        "id": "ZPacwWMh9FIR"
      }
    }
  ],
  "metadata": {
    "colab": {
      "provenance": [],
      "authorship_tag": "ABX9TyNyg+bAH91gX/OkZz+XECJK",
      "include_colab_link": true
    },
    "kernelspec": {
      "display_name": "Python 3",
      "name": "python3"
    },
    "language_info": {
      "name": "python"
    }
  },
  "nbformat": 4,
  "nbformat_minor": 0
}